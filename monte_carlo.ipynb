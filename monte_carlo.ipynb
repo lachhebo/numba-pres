{
 "cells": [
  {
   "cell_type": "code",
   "execution_count": 149,
   "id": "86204b1d",
   "metadata": {
    "ExecuteTime": {
     "end_time": "2021-11-22T13:17:00.190675Z",
     "start_time": "2021-11-22T13:17:00.186534Z"
    }
   },
   "outputs": [],
   "source": [
    "from numba import jit\n",
    "import random\n",
    "\n",
    "def monte_carlo_pi(nsamples):\n",
    "    acc = 0\n",
    "    for i in range(nsamples):\n",
    "        x = random.random()\n",
    "        y = random.random()\n",
    "        if (x ** 2 + y ** 2) < 1.0:\n",
    "            acc += 1\n",
    "    return 4.0 * acc / nsamples"
   ]
  },
  {
   "cell_type": "code",
   "execution_count": 157,
   "id": "0521977b",
   "metadata": {
    "ExecuteTime": {
     "end_time": "2021-11-22T13:17:29.230041Z",
     "start_time": "2021-11-22T13:17:29.219686Z"
    }
   },
   "outputs": [
    {
     "data": {
      "text/plain": [
       "3.1432"
      ]
     },
     "execution_count": 157,
     "metadata": {},
     "output_type": "execute_result"
    }
   ],
   "source": [
    "monte_carlo_pi(10000)"
   ]
  },
  {
   "cell_type": "code",
   "execution_count": 158,
   "id": "ef38f350",
   "metadata": {
    "ExecuteTime": {
     "end_time": "2021-11-22T13:17:41.383049Z",
     "start_time": "2021-11-22T13:17:41.378377Z"
    }
   },
   "outputs": [],
   "source": [
    "from numba import jit\n",
    "import random\n",
    "\n",
    "@jit(nopython=True)\n",
    "def monte_carlo_pi_jit(nsamples):\n",
    "    acc = 0\n",
    "    for i in range(nsamples):\n",
    "        x = random.random()\n",
    "        y = random.random()\n",
    "        if (x ** 2 + y ** 2) < 1.0:\n",
    "            acc += 1\n",
    "    return 4.0 * acc / nsamples"
   ]
  },
  {
   "cell_type": "code",
   "execution_count": 180,
   "id": "37526f44",
   "metadata": {
    "ExecuteTime": {
     "end_time": "2021-11-22T13:18:16.488832Z",
     "start_time": "2021-11-22T13:18:16.476945Z"
    }
   },
   "outputs": [
    {
     "data": {
      "text/plain": [
       "3.14284"
      ]
     },
     "execution_count": 180,
     "metadata": {},
     "output_type": "execute_result"
    }
   ],
   "source": [
    "monte_carlo_pi_jit(100000)"
   ]
  }
 ],
 "metadata": {
  "hide_input": false,
  "kernelspec": {
   "display_name": "numba_demo",
   "language": "python",
   "name": "numba_demo"
  },
  "language_info": {
   "codemirror_mode": {
    "name": "ipython",
    "version": 3
   },
   "file_extension": ".py",
   "mimetype": "text/x-python",
   "name": "python",
   "nbconvert_exporter": "python",
   "pygments_lexer": "ipython3",
   "version": "3.8.5"
  },
  "varInspector": {
   "cols": {
    "lenName": 16,
    "lenType": 16,
    "lenVar": 40
   },
   "kernels_config": {
    "python": {
     "delete_cmd_postfix": "",
     "delete_cmd_prefix": "del ",
     "library": "var_list.py",
     "varRefreshCmd": "print(var_dic_list())"
    },
    "r": {
     "delete_cmd_postfix": ") ",
     "delete_cmd_prefix": "rm(",
     "library": "var_list.r",
     "varRefreshCmd": "cat(var_dic_list()) "
    }
   },
   "types_to_exclude": [
    "module",
    "function",
    "builtin_function_or_method",
    "instance",
    "_Feature"
   ],
   "window_display": false
  }
 },
 "nbformat": 4,
 "nbformat_minor": 5
}
