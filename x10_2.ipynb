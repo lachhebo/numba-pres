{
 "cells": [
  {
   "cell_type": "markdown",
   "id": "52c13cf6",
   "metadata": {
    "ExecuteTime": {
     "end_time": "2021-11-22T09:16:14.236751Z",
     "start_time": "2021-11-22T09:16:14.234051Z"
    }
   },
   "source": [
    "### This time it works !!!"
   ]
  },
  {
   "cell_type": "code",
   "execution_count": 56,
   "id": "b1c878fe",
   "metadata": {
    "ExecuteTime": {
     "end_time": "2021-11-22T13:28:12.726286Z",
     "start_time": "2021-11-22T13:28:12.723322Z"
    }
   },
   "outputs": [],
   "source": [
    "import pandas as pd\n",
    "import random\n",
    "from numba import njit"
   ]
  },
  {
   "cell_type": "code",
   "execution_count": 57,
   "id": "51dc2479",
   "metadata": {
    "ExecuteTime": {
     "end_time": "2021-11-22T13:28:18.232163Z",
     "start_time": "2021-11-22T13:28:18.222957Z"
    }
   },
   "outputs": [],
   "source": [
    "data = {\n",
    "        'Age': list(range(10000)),\n",
    "        'Height' : list(range(10000))\n",
    "        }\n",
    "\n",
    "df = pd.DataFrame(data)"
   ]
  },
  {
   "cell_type": "code",
   "execution_count": 68,
   "id": "09651103",
   "metadata": {
    "ExecuteTime": {
     "end_time": "2021-11-22T13:28:25.396580Z",
     "start_time": "2021-11-22T13:28:25.387384Z"
    }
   },
   "outputs": [
    {
     "data": {
      "text/plain": [
       "49995000"
      ]
     },
     "execution_count": 68,
     "metadata": {},
     "output_type": "execute_result"
    }
   ],
   "source": [
    "df[\"Age\"].sum()"
   ]
  },
  {
   "cell_type": "code",
   "execution_count": 69,
   "id": "0a51edf4",
   "metadata": {
    "ExecuteTime": {
     "end_time": "2021-11-22T13:28:28.004036Z",
     "start_time": "2021-11-22T13:28:27.998681Z"
    }
   },
   "outputs": [],
   "source": [
    "def get_age_sum(df):\n",
    "    return df[\"Age\"].sum()"
   ]
  },
  {
   "cell_type": "code",
   "execution_count": 73,
   "id": "770a72c2",
   "metadata": {
    "ExecuteTime": {
     "end_time": "2021-11-22T13:28:31.355918Z",
     "start_time": "2021-11-22T13:28:31.349049Z"
    }
   },
   "outputs": [
    {
     "data": {
      "text/plain": [
       "49995000"
      ]
     },
     "execution_count": 73,
     "metadata": {},
     "output_type": "execute_result"
    }
   ],
   "source": [
    "get_age_sum(df)"
   ]
  },
  {
   "cell_type": "code",
   "execution_count": 74,
   "id": "c698d374",
   "metadata": {
    "ExecuteTime": {
     "end_time": "2021-11-22T13:28:37.365766Z",
     "start_time": "2021-11-22T13:28:37.362822Z"
    }
   },
   "outputs": [],
   "source": [
    "get_age_sum_jitted = njit(get_age_sum)"
   ]
  },
  {
   "cell_type": "code",
   "execution_count": 75,
   "id": "f2dd006b",
   "metadata": {
    "ExecuteTime": {
     "end_time": "2021-11-22T13:28:40.129246Z",
     "start_time": "2021-11-22T13:28:40.094215Z"
    },
    "hide_input": false
   },
   "outputs": [
    {
     "ename": "TypingError",
     "evalue": "Failed in nopython mode pipeline (step: nopython frontend)\nnon-precise type pyobject\nDuring: typing of argument at /var/folders/wh/73lk8tdn5qq9g7nhp1hmg01m0000gn/T/ipykernel_76801/3754958239.py (2)\n\nFile \"../../../../../var/folders/wh/73lk8tdn5qq9g7nhp1hmg01m0000gn/T/ipykernel_76801/3754958239.py\", line 2:\n<source missing, REPL/exec in use?> \n\nThis error may have been caused by the following argument(s):\n- argument 0: Cannot determine Numba type of <class 'pandas.core.frame.DataFrame'>\n",
     "output_type": "error",
     "traceback": [
      "\u001b[0;31m---------------------------------------------------------------------------\u001b[0m",
      "\u001b[0;31mTypingError\u001b[0m                               Traceback (most recent call last)",
      "\u001b[0;32m/var/folders/wh/73lk8tdn5qq9g7nhp1hmg01m0000gn/T/ipykernel_76801/3111875114.py\u001b[0m in \u001b[0;36m<module>\u001b[0;34m\u001b[0m\n\u001b[0;32m----> 1\u001b[0;31m \u001b[0mget_age_sum_jitted\u001b[0m\u001b[0;34m(\u001b[0m\u001b[0mdf\u001b[0m\u001b[0;34m)\u001b[0m\u001b[0;34m\u001b[0m\u001b[0;34m\u001b[0m\u001b[0m\n\u001b[0m",
      "\u001b[0;32m~/Projects/octo/numba_pre/num/lib/python3.8/site-packages/numba/core/dispatcher.py\u001b[0m in \u001b[0;36m_compile_for_args\u001b[0;34m(self, *args, **kws)\u001b[0m\n\u001b[1;32m    480\u001b[0m                 \u001b[0me\u001b[0m\u001b[0;34m.\u001b[0m\u001b[0mpatch_message\u001b[0m\u001b[0;34m(\u001b[0m\u001b[0mmsg\u001b[0m\u001b[0;34m)\u001b[0m\u001b[0;34m\u001b[0m\u001b[0;34m\u001b[0m\u001b[0m\n\u001b[1;32m    481\u001b[0m \u001b[0;34m\u001b[0m\u001b[0m\n\u001b[0;32m--> 482\u001b[0;31m             \u001b[0merror_rewrite\u001b[0m\u001b[0;34m(\u001b[0m\u001b[0me\u001b[0m\u001b[0;34m,\u001b[0m \u001b[0;34m'typing'\u001b[0m\u001b[0;34m)\u001b[0m\u001b[0;34m\u001b[0m\u001b[0;34m\u001b[0m\u001b[0m\n\u001b[0m\u001b[1;32m    483\u001b[0m         \u001b[0;32mexcept\u001b[0m \u001b[0merrors\u001b[0m\u001b[0;34m.\u001b[0m\u001b[0mUnsupportedError\u001b[0m \u001b[0;32mas\u001b[0m \u001b[0me\u001b[0m\u001b[0;34m:\u001b[0m\u001b[0;34m\u001b[0m\u001b[0;34m\u001b[0m\u001b[0m\n\u001b[1;32m    484\u001b[0m             \u001b[0;31m# Something unsupported is present in the user code, add help info\u001b[0m\u001b[0;34m\u001b[0m\u001b[0;34m\u001b[0m\u001b[0;34m\u001b[0m\u001b[0m\n",
      "\u001b[0;32m~/Projects/octo/numba_pre/num/lib/python3.8/site-packages/numba/core/dispatcher.py\u001b[0m in \u001b[0;36merror_rewrite\u001b[0;34m(e, issue_type)\u001b[0m\n\u001b[1;32m    421\u001b[0m                 \u001b[0;32mraise\u001b[0m \u001b[0me\u001b[0m\u001b[0;34m\u001b[0m\u001b[0;34m\u001b[0m\u001b[0m\n\u001b[1;32m    422\u001b[0m             \u001b[0;32melse\u001b[0m\u001b[0;34m:\u001b[0m\u001b[0;34m\u001b[0m\u001b[0;34m\u001b[0m\u001b[0m\n\u001b[0;32m--> 423\u001b[0;31m                 \u001b[0;32mraise\u001b[0m \u001b[0me\u001b[0m\u001b[0;34m.\u001b[0m\u001b[0mwith_traceback\u001b[0m\u001b[0;34m(\u001b[0m\u001b[0;32mNone\u001b[0m\u001b[0;34m)\u001b[0m\u001b[0;34m\u001b[0m\u001b[0;34m\u001b[0m\u001b[0m\n\u001b[0m\u001b[1;32m    424\u001b[0m \u001b[0;34m\u001b[0m\u001b[0m\n\u001b[1;32m    425\u001b[0m         \u001b[0margtypes\u001b[0m \u001b[0;34m=\u001b[0m \u001b[0;34m[\u001b[0m\u001b[0;34m]\u001b[0m\u001b[0;34m\u001b[0m\u001b[0;34m\u001b[0m\u001b[0m\n",
      "\u001b[0;31mTypingError\u001b[0m: Failed in nopython mode pipeline (step: nopython frontend)\nnon-precise type pyobject\nDuring: typing of argument at /var/folders/wh/73lk8tdn5qq9g7nhp1hmg01m0000gn/T/ipykernel_76801/3754958239.py (2)\n\nFile \"../../../../../var/folders/wh/73lk8tdn5qq9g7nhp1hmg01m0000gn/T/ipykernel_76801/3754958239.py\", line 2:\n<source missing, REPL/exec in use?> \n\nThis error may have been caused by the following argument(s):\n- argument 0: Cannot determine Numba type of <class 'pandas.core.frame.DataFrame'>\n"
     ]
    }
   ],
   "source": [
    "get_age_sum_jitted(df)"
   ]
  },
  {
   "cell_type": "code",
   "execution_count": null,
   "id": "ff3f38bb",
   "metadata": {},
   "outputs": [],
   "source": []
  },
  {
   "cell_type": "code",
   "execution_count": null,
   "id": "b76c092b",
   "metadata": {},
   "outputs": [],
   "source": []
  },
  {
   "cell_type": "code",
   "execution_count": null,
   "id": "ebb587f8",
   "metadata": {},
   "outputs": [],
   "source": []
  },
  {
   "cell_type": "code",
   "execution_count": null,
   "id": "91c58a45",
   "metadata": {},
   "outputs": [],
   "source": []
  },
  {
   "cell_type": "code",
   "execution_count": null,
   "id": "997c2ae3",
   "metadata": {},
   "outputs": [],
   "source": []
  },
  {
   "cell_type": "code",
   "execution_count": null,
   "id": "f3f20916",
   "metadata": {},
   "outputs": [],
   "source": []
  },
  {
   "cell_type": "code",
   "execution_count": null,
   "id": "0c8b5690",
   "metadata": {},
   "outputs": [],
   "source": []
  },
  {
   "cell_type": "code",
   "execution_count": null,
   "id": "a41e74ea",
   "metadata": {},
   "outputs": [],
   "source": []
  },
  {
   "cell_type": "code",
   "execution_count": null,
   "id": "3a1f1d7f",
   "metadata": {},
   "outputs": [],
   "source": []
  },
  {
   "cell_type": "markdown",
   "id": "a5f0141f",
   "metadata": {
    "ExecuteTime": {
     "end_time": "2021-11-22T09:16:34.618031Z",
     "start_time": "2021-11-22T09:16:34.615551Z"
    }
   },
   "source": [
    "### This time, it really works !!"
   ]
  },
  {
   "cell_type": "code",
   "execution_count": 76,
   "id": "f89b5400",
   "metadata": {
    "ExecuteTime": {
     "end_time": "2021-11-22T13:29:25.807076Z",
     "start_time": "2021-11-22T13:29:25.796736Z"
    }
   },
   "outputs": [],
   "source": [
    "data = pd.Series(range(1_000_000))\n",
    "\n",
    "roll = data.rolling(10)\n",
    "\n",
    "def f(x):\n",
    "    return np.sum(x) + 5"
   ]
  },
  {
   "cell_type": "code",
   "execution_count": 86,
   "id": "ef9fb56c",
   "metadata": {
    "ExecuteTime": {
     "end_time": "2021-11-22T13:30:13.425116Z",
     "start_time": "2021-11-22T13:30:08.133241Z"
    }
   },
   "outputs": [
    {
     "data": {
      "text/plain": [
       "0               NaN\n",
       "1               NaN\n",
       "2               NaN\n",
       "3               NaN\n",
       "4               NaN\n",
       "            ...    \n",
       "999995    9999910.0\n",
       "999996    9999920.0\n",
       "999997    9999930.0\n",
       "999998    9999940.0\n",
       "999999    9999950.0\n",
       "Length: 1000000, dtype: float64"
      ]
     },
     "execution_count": 86,
     "metadata": {},
     "output_type": "execute_result"
    }
   ],
   "source": [
    "roll.apply(f, raw=True)"
   ]
  },
  {
   "cell_type": "code",
   "execution_count": null,
   "id": "f1c6d409",
   "metadata": {
    "ExecuteTime": {
     "end_time": "2021-11-22T09:19:28.671418Z",
     "start_time": "2021-11-22T09:19:28.664441Z"
    }
   },
   "outputs": [],
   "source": [
    "import numba\n",
    "\n",
    "\n",
    "@numba.jit\n",
    "def f_plain(x):\n",
    "    return x * (x - 1)\n",
    "\n",
    "\n",
    "@numba.jit\n",
    "def integrate_f_numba(a, b, N):\n",
    "    s = 0\n",
    "    dx = (b - a) / N\n",
    "    for i in range(N):\n",
    "        s += f_plain(a + i * dx)\n",
    "    return s * dx\n",
    "\n",
    "\n",
    "@numba.jit\n",
    "def apply_integrate_f_numba(col_a, col_b, col_N):\n",
    "    n = len(col_N)\n",
    "    result = np.empty(n, dtype=\"float64\")\n",
    "    assert len(col_a) == len(col_b) == n\n",
    "    for i in range(n):\n",
    "        result[i] = integrate_f_numba(col_a[i], col_b[i], col_N[i])\n",
    "    return result\n",
    "\n",
    "\n",
    "def compute_numba(df):\n",
    "    result = apply_integrate_f_numba(\n",
    "        df[\"a\"].to_numpy(), df[\"b\"].to_numpy(), df[\"N\"].to_numpy()\n",
    "    )\n",
    "    return pd.Series(result, index=df.index, name=\"result\")"
   ]
  },
  {
   "cell_type": "code",
   "execution_count": null,
   "id": "751a9c99",
   "metadata": {
    "ExecuteTime": {
     "end_time": "2021-11-22T09:19:37.437111Z",
     "start_time": "2021-11-22T09:19:37.402960Z"
    }
   },
   "outputs": [],
   "source": [
    "compute_numba(df)"
   ]
  }
 ],
 "metadata": {
  "hide_input": false,
  "kernelspec": {
   "display_name": "numba_demo",
   "language": "python",
   "name": "numba_demo"
  },
  "language_info": {
   "codemirror_mode": {
    "name": "ipython",
    "version": 3
   },
   "file_extension": ".py",
   "mimetype": "text/x-python",
   "name": "python",
   "nbconvert_exporter": "python",
   "pygments_lexer": "ipython3",
   "version": "3.8.5"
  },
  "varInspector": {
   "cols": {
    "lenName": 16,
    "lenType": 16,
    "lenVar": 40
   },
   "kernels_config": {
    "python": {
     "delete_cmd_postfix": "",
     "delete_cmd_prefix": "del ",
     "library": "var_list.py",
     "varRefreshCmd": "print(var_dic_list())"
    },
    "r": {
     "delete_cmd_postfix": ") ",
     "delete_cmd_prefix": "rm(",
     "library": "var_list.r",
     "varRefreshCmd": "cat(var_dic_list()) "
    }
   },
   "types_to_exclude": [
    "module",
    "function",
    "builtin_function_or_method",
    "instance",
    "_Feature"
   ],
   "window_display": false
  }
 },
 "nbformat": 4,
 "nbformat_minor": 5
}
